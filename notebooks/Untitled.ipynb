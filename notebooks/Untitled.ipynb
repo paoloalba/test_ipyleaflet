{
 "cells": [
  {
   "cell_type": "code",
   "execution_count": 1,
   "id": "9d15af12-6654-408c-bd4a-ec01fca4880b",
   "metadata": {},
   "outputs": [],
   "source": [
    "%load_ext lab_black"
   ]
  },
  {
   "cell_type": "code",
   "execution_count": 52,
   "id": "18766d92-6343-4d4c-8695-d2cffdb84deb",
   "metadata": {},
   "outputs": [],
   "source": [
    "from ipyleaflet import (\n",
    "    Map,\n",
    "    GeoData,\n",
    "    basemaps,\n",
    "    WidgetControl,\n",
    "    GeoJSON,\n",
    "    LayersControl,\n",
    "    Icon,\n",
    "    Marker,\n",
    "    basemap_to_tiles,\n",
    "    Choropleth,\n",
    "    MarkerCluster,\n",
    "    Heatmap,\n",
    "    SearchControl,\n",
    "    FullScreenControl,\n",
    "    ScaleControl,\n",
    "    Popup,\n",
    ")\n",
    "import ipywidgets as wdgt\n",
    "import geopandas as gpd\n",
    "import pandas as pd\n",
    "import numpy as np\n",
    "from shapely.geometry import Point"
   ]
  },
  {
   "cell_type": "code",
   "execution_count": 53,
   "id": "c246d8a4-e700-4a9f-ae51-929e8f1d2c9b",
   "metadata": {},
   "outputs": [
    {
     "name": "stdout",
     "output_type": "stream",
     "text": [
      "0 Hello World\n",
      "1 Hello World\n",
      "2 Hello World\n"
     ]
    }
   ],
   "source": [
    "for kkk, vvv in main_dict.items():\n",
    "    # m.remove_layer(vvv[\"marker\"])\n",
    "    mkr = vvv[\"marker\"]\n",
    "\n",
    "    print(kkk, vvv[\"marker\"].popup.value)"
   ]
  },
  {
   "cell_type": "code",
   "execution_count": 59,
   "id": "24509e81-ccd4-4b2f-a99d-b22909412d8d",
   "metadata": {},
   "outputs": [
    {
     "data": {
      "text/html": [
       "<div>\n",
       "<style scoped>\n",
       "    .dataframe tbody tr th:only-of-type {\n",
       "        vertical-align: middle;\n",
       "    }\n",
       "\n",
       "    .dataframe tbody tr th {\n",
       "        vertical-align: top;\n",
       "    }\n",
       "\n",
       "    .dataframe thead th {\n",
       "        text-align: right;\n",
       "    }\n",
       "</style>\n",
       "<table border=\"1\" class=\"dataframe\">\n",
       "  <thead>\n",
       "    <tr style=\"text-align: right;\">\n",
       "      <th></th>\n",
       "      <th>geometry</th>\n",
       "      <th>id</th>\n",
       "      <th>name</th>\n",
       "    </tr>\n",
       "  </thead>\n",
       "  <tbody>\n",
       "    <tr>\n",
       "      <th>0</th>\n",
       "      <td>POINT (49.18170 9.35029)</td>\n",
       "      <td>0</td>\n",
       "      <td>Hello World</td>\n",
       "    </tr>\n",
       "    <tr>\n",
       "      <th>1</th>\n",
       "      <td>POINT (51.56341 10.53599)</td>\n",
       "      <td>1</td>\n",
       "      <td>Hello World</td>\n",
       "    </tr>\n",
       "    <tr>\n",
       "      <th>2</th>\n",
       "      <td>POINT (51.53609 7.76935)</td>\n",
       "      <td>2</td>\n",
       "      <td>Hello World</td>\n",
       "    </tr>\n",
       "  </tbody>\n",
       "</table>\n",
       "</div>"
      ],
      "text/plain": [
       "                    geometry id         name\n",
       "0   POINT (49.18170 9.35029)  0  Hello World\n",
       "1  POINT (51.56341 10.53599)  1  Hello World\n",
       "2   POINT (51.53609 7.76935)  2  Hello World"
      ]
     },
     "execution_count": 59,
     "metadata": {},
     "output_type": "execute_result"
    }
   ],
   "source": [
    "tmp_list = []\n",
    "for kkk, vvv in main_dict.items():\n",
    "    mkr = vvv[\"marker\"]\n",
    "    tmp_list.append(\n",
    "        {\n",
    "            \"geometry\": Point(*mkr.location),\n",
    "            \"id\": kkk,\n",
    "            \"name\": mkr.popup.value,\n",
    "        }\n",
    "    )\n",
    "gdf = gpd.GeoDataFrame(tmp_list)\n",
    "gdf"
   ]
  },
  {
   "cell_type": "code",
   "execution_count": 60,
   "id": "e322df40-5855-4a67-9a22-d8f0ac425813",
   "metadata": {},
   "outputs": [
    {
     "data": {
      "application/vnd.jupyter.widget-view+json": {
       "model_id": "f72780330f264dff8d97d034728f1244",
       "version_major": 2,
       "version_minor": 0
      },
      "text/plain": [
       "HBox(children=(Map(center=[50.110924, 8.682127], controls=(ZoomControl(options=['position', 'zoom_in_text', 'z…"
      ]
     },
     "execution_count": 60,
     "metadata": {},
     "output_type": "execute_result"
    }
   ],
   "source": [
    "m = Map(\n",
    "    basemap=basemap_to_tiles(basemaps.OpenStreetMap.Mapnik),\n",
    "    center=(50.110924, 8.682127),\n",
    "    zoom=5.1,\n",
    ")\n",
    "m.add_control(ScaleControl(position=\"bottomleft\"))\n",
    "m.add_control(FullScreenControl())\n",
    "\n",
    "m.layout.width = \"50%\"\n",
    "\n",
    "main_dict = {}\n",
    "\n",
    "\n",
    "def handle_click(**kwargs):\n",
    "    if kwargs.get(\"type\") == \"click\":\n",
    "        marker = Marker(location=kwargs.get(\"coordinates\"), draggable=True)\n",
    "        m.add_layer(marker)\n",
    "\n",
    "        message2 = wdgt.Text(\n",
    "            value=\"Hello World\",\n",
    "            placeholder=\"Type something\",\n",
    "            description=\"String:\",\n",
    "            disabled=False,\n",
    "        )\n",
    "        marker.popup = message2\n",
    "\n",
    "        main_dict[f\"{len(main_dict)}\"] = {\"marker\": marker}\n",
    "\n",
    "\n",
    "m.on_interaction(handle_click)\n",
    "\n",
    "wdgt.HBox([m, wdgt.Dropdown(options=[1, 2, 3, 4, 5])])"
   ]
  },
  {
   "cell_type": "code",
   "execution_count": 5,
   "id": "8dc427a1-c3ca-45fd-9439-1729b6d36cca",
   "metadata": {},
   "outputs": [],
   "source": []
  }
 ],
 "metadata": {
  "kernelspec": {
   "display_name": "Python 3 (ipykernel)",
   "language": "python",
   "name": "python3"
  },
  "language_info": {
   "codemirror_mode": {
    "name": "ipython",
    "version": 3
   },
   "file_extension": ".py",
   "mimetype": "text/x-python",
   "name": "python",
   "nbconvert_exporter": "python",
   "pygments_lexer": "ipython3",
   "version": "3.10.8"
  }
 },
 "nbformat": 4,
 "nbformat_minor": 5
}
